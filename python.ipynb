{
 "cells": [
  {
   "cell_type": "code",
   "execution_count": 1,
   "id": "a89df8e2",
   "metadata": {},
   "outputs": [
    {
     "name": "stdout",
     "output_type": "stream",
     "text": [
      "this is my first class\n"
     ]
    }
   ],
   "source": [
    "print(\"this is my first class\")"
   ]
  },
  {
   "cell_type": "markdown",
   "id": "9a330625",
   "metadata": {},
   "source": [
    "my name is faith"
   ]
  },
  {
   "cell_type": "markdown",
   "id": "93196dca",
   "metadata": {},
   "source": [
    "# my name is faith"
   ]
  },
  {
   "cell_type": "code",
   "execution_count": 3,
   "id": "cc3b9fb6",
   "metadata": {},
   "outputs": [
    {
     "name": "stdout",
     "output_type": "stream",
     "text": [
      "hi\n"
     ]
    }
   ],
   "source": [
    "print(\"hi\")"
   ]
  },
  {
   "cell_type": "code",
   "execution_count": 4,
   "id": "470363fe",
   "metadata": {},
   "outputs": [
    {
     "name": "stdout",
     "output_type": "stream",
     "text": [
      "eee\n"
     ]
    }
   ],
   "source": [
    "print(\"eee\")"
   ]
  },
  {
   "cell_type": "code",
   "execution_count": 5,
   "id": "85e6d48b",
   "metadata": {},
   "outputs": [
    {
     "name": "stdout",
     "output_type": "stream",
     "text": [
      "motog5s+\n"
     ]
    }
   ],
   "source": [
    "print(\"motog5s+\")"
   ]
  },
  {
   "cell_type": "code",
   "execution_count": 6,
   "id": "18a5fe4f",
   "metadata": {},
   "outputs": [
    {
     "name": "stdout",
     "output_type": "stream",
     "text": [
      "hi\n",
      "my name is faith\n",
      "im 20yr old\n"
     ]
    }
   ],
   "source": [
    "print(\"hi\")\n",
    "print(\"my name is faith\")\n",
    "print(\"im 20yr old\")"
   ]
  },
  {
   "cell_type": "code",
   "execution_count": null,
   "id": "a3a6ebc3",
   "metadata": {},
   "outputs": [],
   "source": []
  }
 ],
 "metadata": {
  "kernelspec": {
   "display_name": "Python 3",
   "language": "python",
   "name": "python3"
  },
  "language_info": {
   "codemirror_mode": {
    "name": "ipython",
    "version": 3
   },
   "file_extension": ".py",
   "mimetype": "text/x-python",
   "name": "python",
   "nbconvert_exporter": "python",
   "pygments_lexer": "ipython3",
   "version": "3.8.8"
  }
 },
 "nbformat": 4,
 "nbformat_minor": 5
}
